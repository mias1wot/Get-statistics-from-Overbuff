{
 "cells": [
  {
   "cell_type": "markdown",
   "id": "1fae5965",
   "metadata": {},
   "source": [
    "<h1>Overwatch data collection<br>\n",
    "    <small>version 2</small>\n",
    "</h1><br>\n",
    "\n",
    "The code is originally written via Jupyter Notebook.<br>\n",
    "\n",
    "The data collection is done in 3 stages, described below.<br>\n",
    "To execute the program, you need to compile all methods and run main() method located in <b>Stage 0: Program setup</b>.<br>\n",
    "Also you can fine-tune the program execution with global variables contained in <b>Stage 0: Program setup</b>. When you change a cell with global variables, you need to <b>run</b> that cell ('Control' + 'Enter'). For instance, here you can set a competative season for which you want to get information (or set quick play).<br>\n",
    "\n",
    "For this file compilation, I suggest you <b>comment out main()</b> method and run all cells ('Cell' -> 'Run All'). After that delete comment from main() method and execute it (click on cell with main(); 'Cell' -> 'Run Cells' or  simply hit a key combination: 'Control' + 'Enter'). The program will be writing its current state of execution.\n",
    "<hr>\n",
    "\n",
    "<h2>Data collection process:</h2>\n",
    "<h3>First stage - data collection:</h3>\n",
    "Data is read from \"www.overbuff.com\" with selenium library.\n",
    "\n",
    "The retrieved data is stored in <b>heroStats</b> list of lists.<br>\n",
    "Its columns: <b>Stats_Name, Stats_Value</b>.<br>\n",
    "Each hero characteristic (including hero name and skill_tier) is written to <b>Stats_Name</b>, the corresponding value - to <b>Stats_Value</b>.\n",
    "\n",
    "Important moments:<br>\n",
    "<pre>\n",
    "1) Future table columns will have the same names as <b>Stats_Name</b> of <b>heroStats</b>.<br>\n",
    "2) Values with percentage numbers have <b>\", %\"</b> suffix in their <b>Stats_Name</b>; <b>Stats_Value</b> doesn't contain % - there is only a number. So 'Win Rate' of 50.08% translates into <b>Stats_Name</b>: 'Win Rate, %' and <b>Stats_Value</b>: '50.08'.<br>\n",
    "3) Relative values, such as Damage per 10 minutes, contain <b>\" / 10min\"</b> suffix. Here \"/ 10min\" part goes from server and is not hard coded. For example: <b>Stats_Name</b>: 'Damage / 10min'<br>\n",
    "</pre>\n",
    "\n",
    "  &emsp;Data collection is done by parsing DOM of HTML page and retreiving data from HTML elements. The code won't work if HTML page is changed by site developers. In that case, paths of HTML elements in the code which retrieves info from them will need to be tweaked. Also, if site dev change link paths, it'll need to be changed as well.<br>\n",
    "  &emsp;New hero may break the program if it contains some special characters in their names. In that case, you should add this case to heroToOverbuffUrl() and tweakHeroNameForSpecialCases().\n",
    "\n",
    "<h3>Second stage - data cleansing:</h3>\n",
    "After collecting data, it needs to be cleansed. This is done in the second section of this document.<br>\n",
    "Current cleansing:\n",
    "<pre>\n",
    "1) Delete comma separator on thousands (e.g. 1,009 => 1009) for each Stats_Value.\n",
    "2) Translate time representation (e.g. '01:23') to seconds (1*60 + 23 => 83)\n",
    "</pre>\n",
    "\n",
    "<h3>Third stage - building table from data and saving:</h3>\n",
    "Here the tabular representation is built. All unique <b>Stats_Name</b> will be the columns of that table (columns don't repeat).<br>\n",
    "If a current hero has particular <b>Stats_Name</b>, its corresponding <b>Stats_Value</b> is written to the table. Otherwise the cell will contain <b>None</b>.<br>\n",
    "A combination of <b>'Hero'</b> and <b>'Skill Tier'</b> columns is unique for each record.<br>\n",
    "\n",
    "The final table is saved as csv file with name \"ow_heroes_data_season3_{YYYY-mm-dd}.csv\"."
   ]
  },
  {
   "cell_type": "markdown",
   "id": "9c427497",
   "metadata": {},
   "source": [
    "<pre>\n",
    "\n",
    "\n",
    "</pre>\n",
    "<h2>Stage 0: Program setup and run</h2>\n",
    "<pre>\n",
    "\n",
    "</pre>"
   ]
  },
  {
   "cell_type": "markdown",
   "id": "d58790cd",
   "metadata": {},
   "source": [
    "<h3>Global variables documentation:</h3><br>\n",
    "\n",
    "<b>1) HERO_ROLE_POSITION</b> = 'None'|'Last'\n",
    "\n",
    "&emsp;This determines the 'Role' stats position in table. From the code, the 'Role' must be the second table column. If this is ok, take 'None' value. If you want it to be the last table column (as it provides no visual information to ow players as they know well the roles of each heroes; this column is more for machine code), you should opt for 'Last' value.\n",
    "\n",
    "<b>'None'</b> - the stats column will be at it ordinary position<br>\n",
    "<b>'Last'</b> - the stats will be at the last table column<br>\n",
    "<hr>"
   ]
  },
  {
   "cell_type": "markdown",
   "id": "4ed349e5",
   "metadata": {},
   "source": [
    "<h3>Program setup</h3>"
   ]
  },
  {
   "cell_type": "markdown",
   "id": "a2600662",
   "metadata": {},
   "source": [
    "<h4>Data setup</h4>"
   ]
  },
  {
   "cell_type": "code",
   "execution_count": 32,
   "id": "153149d4",
   "metadata": {},
   "outputs": [],
   "source": [
    "# These are the names for columns:\n",
    "HERO_STATS_NAME = 'Hero'\n",
    "HERO_ROLE_NAME = 'Role'\n",
    "SKILL_TIER_STATS_NAME = 'Skill Tier'\n",
    "\n",
    "# For which season to retrieve data?\n",
    "# Ignored if GET_QUICK_DATA = True.\n",
    "OW2_SEASON = 3\n",
    "\n",
    "# Current overwatch season (this is needed to determine the name of file containing the stats data)\n",
    "# Ignored if GET_QUICK_DATA = True.\n",
    "OW2_CURRENT_SEASON = 3\n",
    "\n",
    "# If True, get only data about quick play. Otherwise retrieve competitive data for the specified season.\n",
    "GET_QUICK_DATA = False\n",
    "\n",
    "# This determs the 'Role' stats position. Information for these values is above.\n",
    "SPECIFIC_HERO_ROLE_POSITION = 'Last'"
   ]
  },
  {
   "cell_type": "markdown",
   "id": "a1731ee3",
   "metadata": {},
   "source": [
    "<h4>Browser setup</h4>"
   ]
  },
  {
   "cell_type": "code",
   "execution_count": 31,
   "id": "0acaabaf",
   "metadata": {},
   "outputs": [],
   "source": [
    "# [Unnecessary] The path to firefox.exe file. Ignored if FIREFOX_PATH = None.\n",
    "FIREFOX_PATH = None\n",
    "\n",
    "# [Unnecessary] The path to firefox profile folder. Ignored if PROFILE_PATH = None.\n",
    "PROFILE_PATH = None\n",
    "\n",
    "# [Unnecessary] if EXTENSION_PATH != None, the extension will be added (extension is a file ending with .xpi). It may contain path to adblock, for example.\n",
    "EXTENSION_PATH = None"
   ]
  },
  {
   "cell_type": "markdown",
   "id": "2d041dac",
   "metadata": {},
   "source": [
    "<h4>Debug setup</h4>"
   ]
  },
  {
   "cell_type": "code",
   "execution_count": 33,
   "id": "ebac1b74",
   "metadata": {},
   "outputs": [],
   "source": [
    "# If you want to fetch ALL data, set DEBUG to False. If you want to see how the program operate or if you changed the program and want to test it, set DEBUG to True.\n",
    "DEBUG = True\n",
    "\n",
    "# Works only if DEBUG is True! Otherwise ignored:\n",
    "\n",
    "# How many heroes do you need to fetch information about from the site.\n",
    "# 0 - iterate all heroes.\n",
    "DEBUG__ITERATE_HEROES_COUNT = 1\n",
    "\n",
    "# How many skill_tiers do you need to fetch information about from the site.\n",
    "# 0 - iterate all skill_tiers.\n",
    "DEBUG__ITERATE_SKILL_TIERS_COUNT = 2\n",
    "\n",
    "# Do you want to see browser during scraping? If so, make it True. Invisibility benefits performance and the browser doesn't blink if front of you.\n",
    "IS_BROWSER_VISIBLE = True\n",
    "\n",
    "# This property disables many browser features to operate faster. If you want to explore how the program works, set False for better pictures.\n",
    "BROWSER_OPTIMIZATION_ENABLED = False\n",
    "\n",
    "# Indicates whether you want all found stats to be output to console.\n",
    "OUTPUT_UNIQUE_STATS_TO_CONSOLE = False"
   ]
  },
  {
   "cell_type": "markdown",
   "id": "44a1adf2",
   "metadata": {},
   "source": [
    "<h3>Program execution (make all setups above if necessary)</h3>"
   ]
  },
  {
   "cell_type": "code",
   "execution_count": null,
   "id": "0d531417",
   "metadata": {
    "scrolled": false
   },
   "outputs": [],
   "source": [
    "main()"
   ]
  },
  {
   "cell_type": "markdown",
   "id": "4924fea1",
   "metadata": {},
   "source": [
    "<pre>\n",
    "</pre>\n",
    "<h3>Project tuning is ended here (don't change anything in document that goes below that text).</h3>\n",
    "<h3> You need to compile all code below (as well as compile all code above excluding main() method - this is the only execution of this file).</h3>\n",
    "<pre>\n",
    "\n",
    "</pre>\n"
   ]
  },
  {
   "cell_type": "code",
   "execution_count": 6,
   "id": "f02ffcbe",
   "metadata": {},
   "outputs": [],
   "source": [
    "#pip install selenium\n",
    "#https://github.com/jamie-ralph/overbuff-webscrape/blob/309317ae5316487478c9295eb2281a99a50f94c4/webscrape.py#L33\n",
    "\n",
    "import time\n",
    "from selenium import webdriver\n",
    "from selenium.webdriver.chrome.options import Options\n",
    "from selenium.webdriver import FirefoxOptions\n",
    "from selenium.common.exceptions import NoSuchElementException\n",
    "from selenium.webdriver.common.by import By\n",
    "import pandas as pd\n",
    "import datetime\n",
    "from datetime import datetime\n",
    "import re\n",
    "import csv\n",
    "import numpy as np\n",
    "from collections import OrderedDict"
   ]
  },
  {
   "cell_type": "code",
   "execution_count": 30,
   "id": "9215930c",
   "metadata": {},
   "outputs": [],
   "source": [
    "#heroStats = [['Stats Name', 'Stats Value'], ...]\n",
    "#Before proceeding with that method, you need to compile functions below in that section\n",
    "def main():\n",
    "    heroStats = collectData()\n",
    "    print()\n",
    "    cleanseData(heroStats)\n",
    "    print()\n",
    "    fileName = translateDataToTableAndSaveTable(heroStats)\n",
    "    print()\n",
    "    \n",
    "    print(f\"\\nProgram has finished successfully.\\nYour data is in '{fileName}' file.\")"
   ]
  },
  {
   "cell_type": "markdown",
   "id": "a6f6f76e",
   "metadata": {},
   "source": [
    "<pre>\n",
    "\n",
    "\n",
    "</pre>\n",
    "<h2>Stage 1: Data collection</h2>\n",
    "<pre>\n",
    "\n",
    "\n",
    "\n",
    "</pre>\n"
   ]
  },
  {
   "cell_type": "code",
   "execution_count": 8,
   "id": "3d4eda38",
   "metadata": {},
   "outputs": [],
   "source": [
    "def collectData():\n",
    "    browser = None\n",
    "    try:\n",
    "        browser = launchBrowser()\n",
    "        print('Browser launched.')\n",
    "        heroes = getAllHeroes(browser)\n",
    "        print('All hero names fetched.')\n",
    "        heroStats = collectStatsFromAllHeroes(heroes, browser)\n",
    "        print('Stats of all heroes were fetched.')\n",
    "        \n",
    "        print('Data collection (stage 1) completed.')\n",
    "    finally:\n",
    "        if browser != None:\n",
    "            browser.quit()\n",
    "    \n",
    "    return heroStats"
   ]
  },
  {
   "cell_type": "code",
   "execution_count": 9,
   "id": "d0b66f97",
   "metadata": {},
   "outputs": [],
   "source": [
    "#Launch browser\n",
    "def launchBrowser():\n",
    "    options = FirefoxOptions()\n",
    "    if PROFILE_PATH != None:\n",
    "        options.add_argument(\"-profile\")\n",
    "        options.add_argument(profilePath)\n",
    "\n",
    "\n",
    "    if DEBUG == False or BROWSER_OPTIMIZATION_ENABLED == True:\n",
    "        #Optimize browser for fatest performance:\n",
    "        #Time tests for optimization were done on method getHeroInfo(\"Ana\"). Time calculation code is in calculateTime() method.\n",
    "\n",
    "        #https://erayerdin.com/how-to-make-selenium-load-faster-with-firefox-in-python-ck7ncjyvw00sd8ss1v4i5xob1\n",
    "        #If only this solution (without stack overflow) Time:  16.203362099999595\n",
    "        options.set_preference(\"network.http.pipelining\", True)\n",
    "        options.set_preference(\"network.http.proxy.pipelining\", True)\n",
    "        options.set_preference(\"network.http.pipelining.maxrequests\", 8)\n",
    "        options.set_preference(\"content.notify.interval\", 500000)\n",
    "        options.set_preference(\"content.notify.ontimer\", True)\n",
    "        options.set_preference(\"content.switch.threshold\", 250000)\n",
    "        options.set_preference(\"browser.cache.memory.capacity\", 65536) # Increase the cache capacity.\n",
    "        options.set_preference(\"browser.startup.homepage\", \"about:blank\")\n",
    "        options.set_preference(\"reader.parse-on-load.enabled\", False) # Disable reader, we won't need that.\n",
    "        options.set_preference(\"browser.pocket.enabled\", False) # Duck pocket too!\n",
    "        options.set_preference(\"loop.enabled\", False)\n",
    "        options.set_preference(\"browser.chrome.toolbar_style\", 1) # Text on Toolbar instead of icons\n",
    "        options.set_preference(\"browser.display.show_image_placeholders\", False) # Don't show thumbnails on not loaded images.\n",
    "        options.set_preference(\"browser.display.use_document_colors\", False) # Don't show document colors.\n",
    "        options.set_preference(\"browser.display.use_document_fonts\", 0) # Don't load document fonts.\n",
    "        options.set_preference(\"browser.display.use_system_colors\", True) # Use system colors.\n",
    "        options.set_preference(\"browser.formfill.enable\", False) # Autofill on forms disabled.\n",
    "        options.set_preference(\"browser.helperApps.deleteTempFileOnExit\", True) # Delete temprorary files.\n",
    "        options.set_preference(\"browser.shell.checkDefaultBrowser\", False)\n",
    "        options.set_preference(\"browser.startup.homepage\", \"about:blank\")\n",
    "        options.set_preference(\"browser.startup.page\", 0) # blank\n",
    "        options.set_preference(\"browser.tabs.forceHide\", True) # Disable tabs, We won't need that.\n",
    "        options.set_preference(\"browser.urlbar.autoFill\", False) # Disable autofill on URL bar.\n",
    "        options.set_preference(\"browser.urlbar.autocomplete.enabled\", False) # Disable autocomplete on URL bar.\n",
    "        options.set_preference(\"browser.urlbar.showPopup\", False) # Disable list of URLs when typing on URL bar.\n",
    "        options.set_preference(\"browser.urlbar.showSearch\", False) # Disable search bar.\n",
    "        options.set_preference(\"extensions.checkCompatibility\", False) # Addon update disabled\n",
    "        options.set_preference(\"extensions.checkUpdateSecurity\", False)\n",
    "        options.set_preference(\"extensions.update.autoUpdateEnabled\", False)\n",
    "        options.set_preference(\"extensions.update.enabled\", False)\n",
    "        options.set_preference(\"general.startup.browser\", False)\n",
    "        options.set_preference(\"plugin.default_plugin_disabled\", False)\n",
    "        options.set_preference(\"permissions.default.image\", 2) # Image load disabled again\n",
    "\n",
    "        #https://stackoverflow.com/questions/20892768/how-to-speed-up-browsing-in-selenium-firefox\n",
    "        #If only this solution (without erayerdin.com) Time:  10.61023540000042\n",
    "        options.set_preference(\"javascript.enabled\", False);\n",
    "        options.set_preference(\"permissions.default.stylesheet\", 2);\n",
    "        #options.set_preference(\"permissions.default.image\", 2) \n",
    "\n",
    "        #When both stack overflow and erayerdin.com optimization works: \n",
    "        # In full browser: Time:  8.615919899999426\n",
    "        # In headlerss mode: Time:  7.479380399999172\n",
    "\n",
    "\n",
    "    if DEBUG == False or IS_BROWSER_VISIBLE == False:\n",
    "        options.add_argument(\"-headless\");\n",
    "        \n",
    "    if FIREFOX_PATH != None:\n",
    "        options.binary_location = FIREFOX_PATH\n",
    "\n",
    "    browser = webdriver.Firefox(options = options)\n",
    "    \n",
    "    if EXTENSION_PATH != None:\n",
    "        browser.install_addon(EXTENSION_PATH, temporary=True)\n",
    "    \n",
    "    return browser"
   ]
  },
  {
   "cell_type": "code",
   "execution_count": 10,
   "id": "3947bbf2",
   "metadata": {
    "scrolled": true
   },
   "outputs": [],
   "source": [
    "#Get all heroes\n",
    "#fills 'heroes' variable\n",
    "def getAllHeroes(browser):\n",
    "    heroesUrl = \"https://www.overbuff.com/heroes\"\n",
    "    browser.get(heroesUrl)\n",
    "\n",
    "    table = browser.find_element(\"xpath\", \"/html/body/div/div/main/div[2]/div[2]/div[3]/div/div[3]/table/tbody\")\n",
    "    heroesCount = int(table.get_attribute(\"childElementCount\"))\n",
    "    heroes =  [None] * heroesCount\n",
    "\n",
    "    for i in range(heroesCount):\n",
    "        heroes[i] = tweakHeroNameForSpecialCases(table.find_element(\"xpath\", f\"tr[{i+1}]/td/div/div[2]/div/a\").get_attribute('innerHTML'))\n",
    "        \n",
    "    return heroes"
   ]
  },
  {
   "cell_type": "code",
   "execution_count": 11,
   "id": "f6d42599",
   "metadata": {},
   "outputs": [],
   "source": [
    "def tweakHeroNameForSpecialCases(hero):\n",
    "    #hero.replace('ö', 'o')\n",
    "    if hero == 'Lúcio':\n",
    "        return 'Lucio'\n",
    "    \n",
    "    #hero.replace('ú', 'u')\n",
    "    if hero == 'Torbjörn':\n",
    "        return 'Torbjorn'\n",
    "    \n",
    "    return hero"
   ]
  },
  {
   "cell_type": "code",
   "execution_count": 12,
   "id": "ef6b1c3f",
   "metadata": {},
   "outputs": [],
   "source": [
    "#Overbuff represents differently some special symbols in URL (e.g. ':' as '-')\n",
    "def heroToOverbuffUrl(hero):\n",
    "    if ':' in hero:\n",
    "            if ': ' in hero:\n",
    "                hero = hero.replace(': ', '-')\n",
    "            else:\n",
    "                hero = hero.replace(':', '-')\n",
    "    if ' ' in hero:\n",
    "        hero = hero.replace(' ', '-')\n",
    "    if '.' in hero:\n",
    "        hero = hero.replace('.', '')\n",
    "        \n",
    "    return hero.lower()"
   ]
  },
  {
   "cell_type": "code",
   "execution_count": 13,
   "id": "a43dc8c3",
   "metadata": {},
   "outputs": [],
   "source": [
    "#Overbuff represents seasons as two numbers. If the season has only 1 number, '0' is added in front (e.g. season 2 => '02')\n",
    "def seasonToOverbuffUrl(season):\n",
    "    seasonUrl = str(season)\n",
    "    if season < 10:\n",
    "        seasonUrl = '0' + seasonUrl\n",
    "        \n",
    "    return seasonUrl"
   ]
  },
  {
   "cell_type": "code",
   "execution_count": 14,
   "id": "220451d0",
   "metadata": {},
   "outputs": [],
   "source": [
    "#This is the main method where stats are collected\n",
    "#heroStats = [['Stats Name', 'Stats Value'], ...]\n",
    "def collectStatsFromAllHeroes(heroes, browser):\n",
    "    debug_iterateHeroesCount = DEBUG__ITERATE_HEROES_COUNT\n",
    "    \n",
    "    fetchingInfo = 'quickplay' if GET_QUICK_DATA else f'competitive, season {OW2_SEASON}'\n",
    "    print(f\"\\nFetching heroes stats ({fetchingInfo}):\")\n",
    "    \n",
    "    heroesCount = len(heroes)\n",
    "    heroStats = []\n",
    "    for i in range(heroesCount):\n",
    "        hero = heroes[i]\n",
    "        getHeroInfo(heroes[i], browser, heroStats)\n",
    "        print(f\"{i+1} of {heroesCount} heroes finished.\")\n",
    "        \n",
    "        if DEBUG == True:\n",
    "            debug_iterateHeroesCount -= 1\n",
    "            if debug_iterateHeroesCount == 0:\n",
    "                break\n",
    "                \n",
    "    print()\n",
    "    \n",
    "    return heroStats"
   ]
  },
  {
   "cell_type": "code",
   "execution_count": 15,
   "id": "4646526e",
   "metadata": {},
   "outputs": [],
   "source": [
    "#'heroStats' will get appended\n",
    "#If a hero didn't exist in that season, they're skipped\n",
    "def getHeroInfo(hero, browser, heroStats):\n",
    "    skillTiers = [\"All\", \"Bronze\", \"Silver\", \"Gold\", \"Platinum\", \"Diamond\", \"Master\", \"Grandmaster\"]\n",
    "    heroUrl = heroToOverbuffUrl(hero)\n",
    "    ow2SeasonUrl = seasonToOverbuffUrl(OW2_SEASON)\n",
    "\n",
    "    #Only in debug mode: How many skill tiers to iterate before break\n",
    "    debug_iterateSkillTiersCount = DEBUG__ITERATE_SKILL_TIERS_COUNT\n",
    "    \n",
    "    #If hero didn't exist in this season\n",
    "    browser.get(f\"https://www.overbuff.com/heroes/{heroUrl}?platform=pc&gameMode=competitive&hero={heroUrl}&skillTier={skillTiers[0].lower()}&season=ow2s{ow2SeasonUrl}\")\n",
    "    nodeWithStatsTable = browser.find_element(\"xpath\", \"/html/body/div/div/main/div[2]/div[2]/div[3]/div/div[2]\")\n",
    "    if nodeWithStatsTable.get_attribute('innerHTML') == '':\n",
    "        print(f\"{hero} didn't exist in that season.\")\n",
    "        return\n",
    "    \n",
    "    \n",
    "    #Add 'Hero' stats\n",
    "    heroStats.append([HERO_STATS_NAME, hero])\n",
    "    \n",
    "    #Add hero role (support, dmg, tank)\n",
    "    #We've come to that page when we were checking if the hero existed in current season\n",
    "    #browser.get(f\"https://www.overbuff.com/heroes/{heroUrl}\")\n",
    "    heroRole = browser.find_element(\"xpath\", \"/html/body/div/div/main/div[2]/div[2]/div/div[2]/div/div[3]/div/a/div\").get_attribute('innerHTML')\n",
    "    heroStats.append([HERO_ROLE_NAME, heroRole])\n",
    "    \n",
    "    for curSkillTier in skillTiers:\n",
    "        if GET_QUICK_DATA == True:\n",
    "            browser.get(f\"https://www.overbuff.com/heroes/{heroUrl}?platform=pc&gameMode=quickplay&hero={heroUrl}&skillTier={curSkillTier.lower()}\")\n",
    "        else:\n",
    "            browser.get(f\"https://www.overbuff.com/heroes/{heroUrl}?platform=pc&gameMode=competitive&hero={heroUrl}&skillTier={curSkillTier.lower()}&season=ow2s{ow2SeasonUrl}\")\n",
    "        statsTable = browser.find_element(\"xpath\", \"/html/body/div/div/main/div[2]/div[2]/div[3]/div/div[2]/div\")\n",
    "        \n",
    "        #Add 'Skill Tier' stats\n",
    "        heroStats.append([SKILL_TIER_STATS_NAME, curSkillTier])\n",
    "        \n",
    "        #first stats bar\n",
    "        divWithDiscreteStats = statsTable.find_element(\"xpath\", \"div\")\n",
    "        iterateAllDiscreteStatsInDiv(hero, curSkillTier, divWithDiscreteStats, heroStats)\n",
    "            \n",
    "        #second stats bar\n",
    "        divWithDiscreteStats = statsTable.find_element(\"xpath\", \"div[2]/div/div\")\n",
    "        iterateAllDiscreteStatsInDiv(hero, curSkillTier, divWithDiscreteStats, heroStats)\n",
    "        \n",
    "        #third stats bar\n",
    "        divWithDiscreteStats = statsTable.find_element(\"xpath\", \"div[2]/div[2]/div\")\n",
    "        iterateAllDiscreteStatsInDiv(hero, curSkillTier, divWithDiscreteStats, heroStats)\n",
    "        \n",
    "        print(f\"{hero}: *{curSkillTier}* tier finished.\")\n",
    "        \n",
    "        #For debug purposes\n",
    "        if DEBUG == True:\n",
    "            debug_iterateSkillTiersCount -= 1\n",
    "            if debug_iterateSkillTiersCount == 0:\n",
    "                break"
   ]
  },
  {
   "cell_type": "code",
   "execution_count": 16,
   "id": "6f3dcf81",
   "metadata": {},
   "outputs": [],
   "source": [
    "#'heroStats' will get appended\n",
    "def iterateAllDiscreteStatsInDiv(hero, curSkillTier, divWithDiscreteStats, heroStats):\n",
    "    discreteStatsCount = int(divWithDiscreteStats.get_attribute(\"childElementCount\"))\n",
    "    for i in range(discreteStatsCount):\n",
    "        getDiscreteStatsFromStatsDiv(hero, curSkillTier, divWithDiscreteStats.find_element(\"xpath\", f\"div[{i+1}]\"), heroStats)"
   ]
  },
  {
   "cell_type": "code",
   "execution_count": 17,
   "id": "c738d776",
   "metadata": {},
   "outputs": [],
   "source": [
    "#'heroStats' will get appended\n",
    "def getDiscreteStatsFromStatsDiv(hero, curSkillTier, discreteStatsDiv, heroStats):\n",
    "    statsValue = discreteStatsDiv.find_element(\"xpath\", \"div/div/span/span\").get_attribute('innerHTML')\n",
    "    statsName = discreteStatsDiv.find_element(\"xpath\", \"div/div[2]\").get_attribute('innerHTML')\n",
    "    \n",
    "    #if stats is in percent\n",
    "    if '%' in statsValue:\n",
    "        statsValue = re.search('[0-9\\.,]+', statsValue).group()\n",
    "        statsName += ', %'\n",
    "        \n",
    "    #if this is stats per N minutes (for example: /10min)\n",
    "    try:\n",
    "        if (statsPerN := discreteStatsDiv.find_element(\"xpath\", \"div/div/span[2]\")) is not None:\n",
    "            statsName += f\" {statsPerN.get_attribute('innerHTML')}\"\n",
    "    except NoSuchElementException:\n",
    "        pass\n",
    "    \n",
    "    heroStats.append([statsName, statsValue])"
   ]
  },
  {
   "cell_type": "markdown",
   "id": "66b54c9d",
   "metadata": {},
   "source": [
    "<strong>Tests:</strong>"
   ]
  },
  {
   "cell_type": "markdown",
   "id": "ffd9e7b7",
   "metadata": {},
   "source": [
    "<pre>\n",
    "\n",
    "\n",
    "</pre>\n",
    "<h2>Stage 2: Data cleansing</h2>\n",
    "<pre>\n",
    "\n",
    "\n",
    "\n",
    "</pre>\n"
   ]
  },
  {
   "cell_type": "code",
   "execution_count": 18,
   "id": "50058312",
   "metadata": {},
   "outputs": [],
   "source": [
    "#Be careful when 'Stats Name'='Hero' as hero name may contain symbols which are cleared from cleansing methods.\n",
    "def cleanseData(heroStats):\n",
    "    print(\"Cleansing has begun.\")\n",
    "    cleansing_deleteThousandsComma(heroStats)\n",
    "    print(f\"Cleansing: Thousands comma delimiter deletion finished.\")\n",
    "    cleansing_translateTimeWithColonToSeconds(heroStats)\n",
    "    print(f\"Cleansing: Translation time to seconds finished.\")\n",
    "    \n",
    "    print(f\"Data cleansing (stage 2) finished.\")"
   ]
  },
  {
   "cell_type": "code",
   "execution_count": 19,
   "id": "d3bc45b6",
   "metadata": {},
   "outputs": [],
   "source": [
    "#Data cleansing: delete comma separator on thousands (e.g. 1,009 => 1009)\n",
    "#This method modifies heroStats\n",
    "def cleansing_deleteThousandsComma(heroStats):\n",
    "    for heroStatsRecord in heroStats:\n",
    "        if  ',' in heroStatsRecord[1]:\n",
    "            heroStatsRecord[1] = heroStatsRecord[1].replace(',','')"
   ]
  },
  {
   "cell_type": "code",
   "execution_count": 20,
   "id": "7e6293f3",
   "metadata": {},
   "outputs": [],
   "source": [
    "#Data cleansing: translate time representation (e.g. '01:23') to seconds (1*60 + 23 => 83)\n",
    "#This method modifies heroStats\n",
    "def cleansing_translateTimeWithColonToSeconds(heroStats):\n",
    "    for heroStatsRecord in heroStats:\n",
    "        if ':' in heroStatsRecord[1] and heroStatsRecord[0] != HERO_STATS_NAME:\n",
    "            colonIndex = heroStatsRecord[1].find(':')\n",
    "            heroStatsRecord[1] = str(int(heroStatsRecord[1][:colonIndex]) * 60 + int(heroStatsRecord[1][colonIndex+1:]))"
   ]
  },
  {
   "cell_type": "markdown",
   "id": "55153203",
   "metadata": {},
   "source": [
    "<pre>\n",
    "\n",
    "\n",
    "</pre>\n",
    "<h2>Stage 3: Data translation into table and saving</h2>\n",
    "<pre>\n",
    "\n",
    "\n",
    "\n",
    "</pre>\n"
   ]
  },
  {
   "cell_type": "code",
   "execution_count": 21,
   "id": "13e6333b",
   "metadata": {},
   "outputs": [],
   "source": [
    "#Returns a name of file with data\n",
    "def translateDataToTableAndSaveTable(heroStats):\n",
    "    print(\"Data translation to table and saving have begun.\")\n",
    "    uniqueStats = retrieveUniqueStatsFromData(heroStats)\n",
    "    heroStatsTable = createTableFromData(heroStats, uniqueStats)\n",
    "    print(\"Data translation to table finished.\")\n",
    "    fileName = saveTable(heroStatsTable, uniqueStats)\n",
    "    print(\"Data saving finished.\")\n",
    "    \n",
    "    print(f\"Data translation to table and saving (stage 3) finished.\")\n",
    "    \n",
    "    if DEBUG == True and OUTPUT_UNIQUE_STATS_TO_CONSOLE == True:\n",
    "        print(f\"\\nUnique stats:\\n{uniqueStats}\\n\")\n",
    "        \n",
    "    return fileName"
   ]
  },
  {
   "cell_type": "code",
   "execution_count": 22,
   "id": "a567efd7",
   "metadata": {
    "scrolled": false
   },
   "outputs": [],
   "source": [
    "#Find all unique stats names\n",
    "#All data are immutable here\n",
    "def retrieveUniqueStatsFromData(heroStats):\n",
    "    npHeroStats = np.array(heroStats)\n",
    "    statsNames = npHeroStats[:,0]\n",
    "    uniqueStats = list(OrderedDict.fromkeys(statsNames))\n",
    "    \n",
    "    if SPECIFIC_HERO_ROLE_POSITION == 'Last':\n",
    "        setHeroRoleToLastPosition(uniqueStats)\n",
    "    \n",
    "    return uniqueStats"
   ]
  },
  {
   "cell_type": "code",
   "execution_count": 23,
   "id": "c19d9d21",
   "metadata": {},
   "outputs": [],
   "source": [
    "#position 'Role' to the last element\n",
    "def setHeroRoleToLastPosition(uniqueStats):\n",
    "    uniqueStats.remove(HERO_ROLE_NAME)\n",
    "    uniqueStats.append(HERO_ROLE_NAME)"
   ]
  },
  {
   "cell_type": "code",
   "execution_count": 24,
   "id": "45f07d10",
   "metadata": {},
   "outputs": [],
   "source": [
    "#Create tabular form of results\n",
    "#all data are immutable here\n",
    "def createTableFromData(heroStats, uniqueStats):\n",
    "    heroStatsTable = []\n",
    "\n",
    "    curHero = ''\n",
    "    curSkillTier = ''\n",
    "    curHeroRole = ''\n",
    "    curTableRow = -1\n",
    "    uniqueStatsCount = len(uniqueStats)\n",
    "    for heroStatsRecord in heroStats:\n",
    "        #all stats of previous hero were passed\n",
    "        if heroStatsRecord[0] == HERO_STATS_NAME:\n",
    "            curHero = heroStatsRecord[1]\n",
    "            continue\n",
    "            \n",
    "        #all stats of previous hero were passed\n",
    "        if heroStatsRecord[0] == HERO_ROLE_NAME:\n",
    "            curHeroRole = heroStatsRecord[1]\n",
    "            continue\n",
    "            \n",
    "        #all stats of previous skill_tier of current hero were passed\n",
    "        if heroStatsRecord[0] == SKILL_TIER_STATS_NAME:\n",
    "            curSkillTier = heroStatsRecord[1]\n",
    "            curTableRow += 1\n",
    "            heroStatsTable.append([None] * uniqueStatsCount)\n",
    "            heroStatsTable[curTableRow][0] = curHero\n",
    "            if SPECIFIC_HERO_ROLE_POSITION == 'Last':\n",
    "                heroStatsTable[curTableRow][1] = curSkillTier\n",
    "                heroStatsTable[curTableRow][uniqueStatsCount - 1] = curHeroRole\n",
    "            else:\n",
    "                heroStatsTable[curTableRow][2] = curSkillTier\n",
    "                heroStatsTable[curTableRow][1] = curHeroRole\n",
    "            continue\n",
    "\n",
    "        #set stats value to current hero of current skill_tier\n",
    "        #columns in table go in uniqueStats order\n",
    "        statsIndex = uniqueStats.index(heroStatsRecord[0])\n",
    "        heroStatsTable[curTableRow][statsIndex] = heroStatsRecord[1]\n",
    "\n",
    "    return heroStatsTable"
   ]
  },
  {
   "cell_type": "code",
   "execution_count": 25,
   "id": "710b41c2",
   "metadata": {},
   "outputs": [],
   "source": [
    "#Returns a name of file with data\n",
    "def saveTable(heroStatsTable, uniqueStats):\n",
    "    curDate = datetime.today().strftime(\"%Y-%m-%d\")\n",
    "    \n",
    "    if GET_QUICK_DATA == True:\n",
    "        fileName = f'ow2_quickplay_heroes_stats__{curDate}.csv'\n",
    "    else:\n",
    "        fileName = f'ow2_season_{seasonToFileName(OW2_SEASON)}_{\"FINAL\" if OW2_SEASON < OW2_CURRENT_SEASON else \"INTERMEDIATE\"}_heroes_stats__{curDate}.csv'\n",
    "    \n",
    "    \n",
    "    with open(fileName, 'w', encoding='UTF8', newline='') as f:\n",
    "        writer = csv.writer(f)\n",
    "\n",
    "        # write the header (heroes stats names)\n",
    "        writer.writerow(uniqueStats)\n",
    "\n",
    "        # write heroes stats values\n",
    "        writer.writerows(heroStatsTable)\n",
    "        \n",
    "        return fileName"
   ]
  },
  {
   "cell_type": "code",
   "execution_count": 26,
   "id": "351f6faf",
   "metadata": {},
   "outputs": [],
   "source": [
    "# Seasons is represented  as two numbers. If the season has only 1 number, '0' is added in front (e.g. season 2 => '02')\n",
    "def seasonToFileName(season):\n",
    "    seasonFileName = str(season)\n",
    "    if season < 10:\n",
    "        seasonFileName = '0' + seasonFileName\n",
    "        \n",
    "    return seasonFileName"
   ]
  },
  {
   "cell_type": "markdown",
   "id": "f807a804",
   "metadata": {},
   "source": [
    "<pre>\n",
    "\n",
    "\n",
    "</pre>\n",
    "<h2>Test area</h2>\n",
    "<pre>\n",
    "\n",
    "\n",
    "\n",
    "</pre>"
   ]
  },
  {
   "cell_type": "raw",
   "id": "cce8b3c9",
   "metadata": {},
   "source": [
    "browser = launchBrowser()"
   ]
  },
  {
   "cell_type": "raw",
   "id": "891cb7bd",
   "metadata": {},
   "source": [
    "browser.quit()"
   ]
  },
  {
   "cell_type": "raw",
   "id": "ecde5360",
   "metadata": {},
   "source": [
    "heroStats = []"
   ]
  },
  {
   "cell_type": "raw",
   "id": "4f937944",
   "metadata": {},
   "source": [
    "DEBUG = True\n",
    "#heroStats = []\n",
    "\n",
    "#hero = \"Ana\"\n",
    "#hero = \"Mercy\"\n",
    "#hero = \"Doomfist\"\n",
    "hero = \"Soldier: 76\"\n",
    "\n",
    "#browser = launchBrowser()\n",
    "getHeroInfo(hero, browser, heroStats)"
   ]
  },
  {
   "cell_type": "raw",
   "id": "0c711db8",
   "metadata": {},
   "source": [
    "cleanseData(heroStats)"
   ]
  },
  {
   "cell_type": "raw",
   "id": "0352bdff",
   "metadata": {},
   "source": [
    "translateDataToTableAndSaveTable(heroStats)"
   ]
  },
  {
   "cell_type": "markdown",
   "id": "252723ea",
   "metadata": {},
   "source": [
    "<pre>\n",
    "\n",
    "\n",
    "</pre>\n",
    "<h2>Additional code</h2>\n",
    "<pre>\n",
    "\n",
    "\n",
    "\n",
    "</pre>"
   ]
  },
  {
   "cell_type": "code",
   "execution_count": 27,
   "id": "45ffbb3a",
   "metadata": {},
   "outputs": [],
   "source": [
    "def isBrowserAlive(browser):\n",
    "    try:\n",
    "        browser.title\n",
    "        print(True)\n",
    "    except:\n",
    "        print(False)\n",
    "        \n",
    "#isBrowserAlive(browser)"
   ]
  },
  {
   "cell_type": "code",
   "execution_count": 28,
   "id": "4a2b46bb",
   "metadata": {},
   "outputs": [],
   "source": [
    "import timeit\n",
    "def calculateTime():\n",
    "    start = timeit.default_timer()\n",
    "    \n",
    "    #Here goes your code.\n",
    "    \n",
    "    \n",
    "    stop = timeit.default_timer()\n",
    "    print('Time: ', stop - start)  \n",
    "    \n",
    "#calculateTime()"
   ]
  }
 ],
 "metadata": {
  "kernelspec": {
   "display_name": "Python 3 (ipykernel)",
   "language": "python",
   "name": "python3"
  },
  "language_info": {
   "codemirror_mode": {
    "name": "ipython",
    "version": 3
   },
   "file_extension": ".py",
   "mimetype": "text/x-python",
   "name": "python",
   "nbconvert_exporter": "python",
   "pygments_lexer": "ipython3",
   "version": "3.9.7"
  }
 },
 "nbformat": 4,
 "nbformat_minor": 5
}
